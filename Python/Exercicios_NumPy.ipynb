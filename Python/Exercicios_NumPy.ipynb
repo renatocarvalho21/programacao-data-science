{
 "cells": [
  {
   "cell_type": "markdown",
   "metadata": {},
   "source": [
    "8. Usando NumPy, importe o dataset iris mantendo o seu conteúdo intacto."
   ]
  },
  {
   "cell_type": "code",
   "execution_count": null,
   "metadata": {},
   "outputs": [],
   "source": [
    "#Exercicio 8\n",
    "\n",
    "import numpy as np\n",
    "\n",
    "iris_url = \"https://archive.ics.uci.edu/ml/machine-learning-databases/iris/iris.data\"\n",
    "coluna = ('sepallength', 'sepalwidth', 'petallength', 'petalwidth', 'species')\n",
    "\n",
    "iris = np.genfromtxt(iris_url, delimiter=',', dtype='object', encoding='ascii')\n",
    "\n",
    "iris\n"
   ]
  },
  {
   "cell_type": "markdown",
   "metadata": {},
   "source": [
    "9. Extraia a coluna species do dataset importado na questão anterior para um vetor unidimensional."
   ]
  },
  {
   "cell_type": "code",
   "execution_count": 12,
   "metadata": {},
   "outputs": [
    {
     "data": {
      "text/plain": [
       "array([b'5.1', b'4.9', b'4.7', b'4.6', b'5.0', b'5.4', b'4.6', b'5.0',\n",
       "       b'4.4', b'4.9', b'5.4', b'4.8', b'4.8', b'4.3', b'5.8', b'5.7',\n",
       "       b'5.4', b'5.1', b'5.7', b'5.1', b'5.4', b'5.1', b'4.6', b'5.1',\n",
       "       b'4.8', b'5.0', b'5.0', b'5.2', b'5.2', b'4.7', b'4.8', b'5.4',\n",
       "       b'5.2', b'5.5', b'4.9', b'5.0', b'5.5', b'4.9', b'4.4', b'5.1',\n",
       "       b'5.0', b'4.5', b'4.4', b'5.0', b'5.1', b'4.8', b'5.1', b'4.6',\n",
       "       b'5.3', b'5.0', b'7.0', b'6.4', b'6.9', b'5.5', b'6.5', b'5.7',\n",
       "       b'6.3', b'4.9', b'6.6', b'5.2', b'5.0', b'5.9', b'6.0', b'6.1',\n",
       "       b'5.6', b'6.7', b'5.6', b'5.8', b'6.2', b'5.6', b'5.9', b'6.1',\n",
       "       b'6.3', b'6.1', b'6.4', b'6.6', b'6.8', b'6.7', b'6.0', b'5.7',\n",
       "       b'5.5', b'5.5', b'5.8', b'6.0', b'5.4', b'6.0', b'6.7', b'6.3',\n",
       "       b'5.6', b'5.5', b'5.5', b'6.1', b'5.8', b'5.0', b'5.6', b'5.7',\n",
       "       b'5.7', b'6.2', b'5.1', b'5.7', b'6.3', b'5.8', b'7.1', b'6.3',\n",
       "       b'6.5', b'7.6', b'4.9', b'7.3', b'6.7', b'7.2', b'6.5', b'6.4',\n",
       "       b'6.8', b'5.7', b'5.8', b'6.4', b'6.5', b'7.7', b'7.7', b'6.0',\n",
       "       b'6.9', b'5.6', b'7.7', b'6.3', b'6.7', b'7.2', b'6.2', b'6.1',\n",
       "       b'6.4', b'7.2', b'7.4', b'7.9', b'6.4', b'6.3', b'6.1', b'7.7',\n",
       "       b'6.3', b'6.4', b'6.0', b'6.9', b'6.7', b'6.9', b'5.8', b'6.8',\n",
       "       b'6.7', b'6.7', b'6.3', b'6.5', b'6.2', b'5.9'], dtype=object)"
      ]
     },
     "execution_count": 12,
     "metadata": {},
     "output_type": "execute_result"
    }
   ],
   "source": [
    "#Exercicio 9\n",
    "\n",
    "import numpy as np\n",
    "\n",
    "iris_url = \"https://archive.ics.uci.edu/ml/machine-learning-databases/iris/iris.data\"\n",
    "coluna = ('sepallength', 'sepalwidth', 'petallength', 'petalwidth', 'species')\n",
    "\n",
    "iris = np.genfromtxt(iris_url, delimiter=',', dtype='object', encoding='ascii')\n",
    "\n",
    "iris[:,0]\n"
   ]
  },
  {
   "cell_type": "markdown",
   "metadata": {},
   "source": [
    "10. Calcule a média, mediana e desvio padrão da primeira coluna (sepallength) do dataset Iris."
   ]
  },
  {
   "cell_type": "code",
   "execution_count": 16,
   "metadata": {},
   "outputs": [
    {
     "name": "stdout",
     "output_type": "stream",
     "text": [
      "A média é: 5.843333333333334\n",
      "A mediana é: 5.8\n",
      "O desvio padrão é: 0.8253012917851409\n"
     ]
    }
   ],
   "source": [
    "#Exercicio 10\n",
    "\n",
    "import numpy as np\n",
    "\n",
    "iris_url = \"https://archive.ics.uci.edu/ml/machine-learning-databases/iris/iris.data\"\n",
    "coluna = ('sepallength', 'sepalwidth', 'petallength', 'petalwidth', 'species')\n",
    "\n",
    "iris = np.genfromtxt(iris_url, delimiter=',', encoding='ascii')\n",
    "\n",
    "media = np.mean(iris[:,0])\n",
    "mediana = np.median(iris[:,0])\n",
    "desviop = np.std(iris[:,0])\n",
    "\n",
    "print(\"A média é: \" + str(media))\n",
    "print(\"A mediana é: \" + str(mediana))\n",
    "print(\"O desvio padrão é: \" + str(desviop))\n",
    "\n"
   ]
  },
  {
   "cell_type": "markdown",
   "metadata": {},
   "source": [
    "11. Normalize a coluna (sepallength) do dataset iris de tal forma que o valor mínimo seja zero (0) e o valor máximo seja 1."
   ]
  },
  {
   "cell_type": "code",
   "execution_count": null,
   "metadata": {},
   "outputs": [],
   "source": [
    "#Exercicio 11\n",
    "\n"
   ]
  },
  {
   "cell_type": "markdown",
   "metadata": {},
   "source": [
    "12. Encontre o 5º e o 95º percentil do comprimento das pétalas (sepallength) do dataset Iris."
   ]
  },
  {
   "cell_type": "code",
   "execution_count": null,
   "metadata": {},
   "outputs": [],
   "source": [
    "#Exercicio 12"
   ]
  },
  {
   "cell_type": "markdown",
   "metadata": {},
   "source": [
    "13. Encontre a quantidade de valores ausentes, bem como a posição deles da primeira coluna da coluna comprimento das pétalas (sepallength), dentro do vetor abaixo:"
   ]
  },
  {
   "cell_type": "code",
   "execution_count": null,
   "metadata": {},
   "outputs": [],
   "source": [
    "#Exercicio 13"
   ]
  }
 ],
 "metadata": {
  "kernelspec": {
   "display_name": "Python 3",
   "language": "python",
   "name": "python3"
  },
  "language_info": {
   "codemirror_mode": {
    "name": "ipython",
    "version": 3
   },
   "file_extension": ".py",
   "mimetype": "text/x-python",
   "name": "python",
   "nbconvert_exporter": "python",
   "pygments_lexer": "ipython3",
   "version": "3.7.3"
  }
 },
 "nbformat": 4,
 "nbformat_minor": 2
}
